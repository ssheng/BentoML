{
 "cells": [
  {
   "cell_type": "markdown",
   "id": "34ea4354",
   "metadata": {},
   "source": [
    "# BentoML Demo - IEEE-CIS Fraud Detection"
   ]
  },
  {
   "cell_type": "markdown",
   "id": "b73a62eb",
   "metadata": {},
   "source": [
    "Accept dataset rules on Kaggle before downloading: https://www.kaggle.com/competitions/ieee-fraud-detection/data"
   ]
  },
  {
   "cell_type": "code",
   "execution_count": null,
   "id": "f82d57c9",
   "metadata": {},
   "outputs": [],
   "source": [
    "# Set Kaggle Credentials for downloading dataset\n",
    "%env KAGGLE_USERNAME=\n",
    "%env KAGGLE_KEY="
   ]
  },
  {
   "cell_type": "code",
   "execution_count": null,
   "id": "945f2734",
   "metadata": {},
   "outputs": [],
   "source": [
    "!kaggle competitions download -c ieee-fraud-detection\n",
    "!unzip -d ./data/ ieee-fraud-detection.zip && rm ieee-fraud-detection.zip"
   ]
  },
  {
   "cell_type": "code",
   "execution_count": null,
   "id": "c49fd861",
   "metadata": {},
   "outputs": [],
   "source": [
    "import pandas as pd\n",
    "import numpy as np\n",
    "\n",
    "data = pd.read_csv(\"./data/train_transaction.csv\")"
   ]
  },
  {
   "cell_type": "code",
   "execution_count": null,
   "id": "6b291c07",
   "metadata": {},
   "outputs": [],
   "source": [
    "from sklearn.impute import SimpleImputer\n",
    "\n",
    "# Replace NaNs\n",
    "nan_columns = data.columns[data.isna().any()]\n",
    "float_nan_subset = data[nan_columns].select_dtypes(include='float64')\n",
    "\n",
    "imputer = SimpleImputer(missing_values=np.nan, strategy='median')\n",
    "data[float_nan_subset.columns] = imputer.fit_transform(float_nan_subset)\n",
    "\n",
    "obj_nan_subset = data[nan_columns].select_dtypes(include='object')\n",
    "data[obj_nan_subset.columns] = obj_nan_subset.fillna('UNKNOWN')"
   ]
  },
  {
   "cell_type": "code",
   "execution_count": null,
   "id": "db587948",
   "metadata": {},
   "outputs": [],
   "source": [
    "from sklearn.preprocessing import LabelEncoder\n",
    "\n",
    "# Convert string columns to categorical or perform label encoding\n",
    "cat_columns = data.select_dtypes(include='object')\n",
    "\n",
    "for col in cat_columns.columns:\n",
    "    data[col] = LabelEncoder().fit_transform(data[col])"
   ]
  },
  {
   "cell_type": "code",
   "execution_count": null,
   "id": "c3efa93f",
   "metadata": {},
   "outputs": [],
   "source": [
    "from sklearn.model_selection import train_test_split\n",
    "\n",
    "# Split data into training and testing sets\n",
    "X = data.drop('isFraud', axis=1)\n",
    "y = data.isFraud.astype(int)\n",
    "X_train, X_test, y_train, y_test = train_test_split(\n",
    "    X, y, test_size=0.3, stratify=y, random_state=0\n",
    ")\n",
    "# Copy data to avoid slowdowns due to fragmentation\n",
    "X_train = X_train.copy()\n",
    "X_test = X_test.copy()"
   ]
  },
  {
   "cell_type": "code",
   "execution_count": null,
   "id": "c6e4b919",
   "metadata": {},
   "outputs": [],
   "source": [
    "import xgboost as xgb\n",
    "\n",
    "# Define model training function\n",
    "def train_model(num_trees, max_depth):\n",
    "    model = xgb.XGBClassifier(\n",
    "        tree_method='hist',\n",
    "        use_label_encoder=False,\n",
    "        eval_metric='aucpr',\n",
    "        objective='binary:logistic',\n",
    "        max_depth=max_depth,\n",
    "        n_estimators=num_trees\n",
    "    )\n",
    "    model.fit(\n",
    "        X_train,\n",
    "        y_train,\n",
    "        eval_set=[(X_test, y_test)]\n",
    "    )\n",
    "    return model"
   ]
  },
  {
   "cell_type": "code",
   "execution_count": null,
   "id": "d8944cd0",
   "metadata": {},
   "outputs": [],
   "source": [
    "# Train a small model with just 500 trees and a maximum depth of 3\n",
    "small_model = train_model(500, 3)"
   ]
  },
  {
   "cell_type": "code",
   "execution_count": null,
   "id": "c549dd2b",
   "metadata": {},
   "outputs": [],
   "source": [
    "import bentoml\n",
    "bentoml.xgboost.save_model(\n",
    "    \"ieee-fraud-detection-sm\",\n",
    "    small_model,\n",
    "    signatures = {\n",
    "        \"predict_proba\": {\"batchable\": True},\n",
    "    })"
   ]
  },
  {
   "cell_type": "code",
   "execution_count": null,
   "id": "5ba5780a",
   "metadata": {},
   "outputs": [],
   "source": [
    "# Train a large model with 5000 trees and a maximum depth of 12\n",
    "large_model = train_model(5000, 12)"
   ]
  },
  {
   "cell_type": "code",
   "execution_count": null,
   "id": "318d54cb",
   "metadata": {},
   "outputs": [],
   "source": [
    "bentoml.xgboost.save_model(\n",
    "    \"ieee-fraud-detection-lg\",\n",
    "    large_model,\n",
    "    signatures = {\n",
    "        \"predict_proba\": {\"batchable\": True},\n",
    "    })"
   ]
  },
  {
   "cell_type": "code",
   "execution_count": null,
   "id": "a479d846",
   "metadata": {},
   "outputs": [],
   "source": [
    "test_runner = bentoml.xgboost.get(\"ieee-fraud-detection-sm:latest\").to_runner()\n",
    "test_runner.init_local()\n",
    "test_runner.predict_proba.run(X_test[0:5])"
   ]
  },
  {
   "cell_type": "code",
   "execution_count": null,
   "id": "82a44761",
   "metadata": {},
   "outputs": [],
   "source": [
    "small_model.predict_proba(X_test[0:5])"
   ]
  },
  {
   "cell_type": "code",
   "execution_count": null,
   "id": "5d21cb63",
   "metadata": {},
   "outputs": [],
   "source": [
    "test_runner = bentoml.xgboost.get(\"ieee-fraud-detection-lg:latest\").to_runner()\n",
    "test_runner.init_local()\n",
    "test_runner.predict_proba.run(X_test[0:5])"
   ]
  },
  {
   "cell_type": "code",
   "execution_count": null,
   "id": "ea1aad92",
   "metadata": {},
   "outputs": [],
   "source": [
    "result = test_runner.predict_proba.run(X_test[0:5])\n",
    "np.argmax(result, axis=1)"
   ]
  },
  {
   "cell_type": "code",
   "execution_count": null,
   "id": "19380b77",
   "metadata": {},
   "outputs": [],
   "source": []
  }
 ],
 "metadata": {
  "kernelspec": {
   "display_name": "Python 3 (ipykernel)",
   "language": "python",
   "name": "python3"
  },
  "language_info": {
   "codemirror_mode": {
    "name": "ipython",
    "version": 3
   },
   "file_extension": ".py",
   "mimetype": "text/x-python",
   "name": "python",
   "nbconvert_exporter": "python",
   "pygments_lexer": "ipython3",
   "version": "3.8.12"
  }
 },
 "nbformat": 4,
 "nbformat_minor": 5
}
